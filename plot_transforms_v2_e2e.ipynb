{
  "cells": [
    {
      "cell_type": "markdown",
      "metadata": {},
      "source": [
        "\n",
        "# Transforms v2: End-to-end object detection example\n",
        "\n",
        "Object detection is not supported out of the box by ``torchvision.transforms`` v1, since it only supports images.\n",
        "``torchvision.transforms.v2`` enables jointly transforming images, videos, bounding boxes, and masks. This example\n",
        "showcases an end-to-end object detection training using the stable ``torchvisio.datasets`` and ``torchvision.models`` as\n",
        "well as the new ``torchvision.transforms.v2`` v2 API.\n"
      ]
    },
    {
      "cell_type": "code",
      "execution_count": 4,
      "metadata": {},
      "outputs": [
        {
          "name": "stdout",
          "output_type": "stream",
          "text": [
            "Collecting pycocotools\n",
            "  Obtaining dependency information for pycocotools from https://files.pythonhosted.org/packages/bb/86/480aff3c16abf2cdc63c708b3e02ca4dee1d47de114996c6c3446c67b808/pycocotools-2.0.7-cp39-cp39-macosx_10_9_universal2.whl.metadata\n",
            "  Downloading pycocotools-2.0.7-cp39-cp39-macosx_10_9_universal2.whl.metadata (1.1 kB)\n",
            "Requirement already satisfied: matplotlib>=2.1.0 in ./.venv/lib/python3.9/site-packages (from pycocotools) (3.7.2)\n",
            "Requirement already satisfied: numpy in ./.venv/lib/python3.9/site-packages (from pycocotools) (1.25.1)\n",
            "Requirement already satisfied: contourpy>=1.0.1 in ./.venv/lib/python3.9/site-packages (from matplotlib>=2.1.0->pycocotools) (1.1.0)\n",
            "Requirement already satisfied: cycler>=0.10 in ./.venv/lib/python3.9/site-packages (from matplotlib>=2.1.0->pycocotools) (0.11.0)\n",
            "Requirement already satisfied: fonttools>=4.22.0 in ./.venv/lib/python3.9/site-packages (from matplotlib>=2.1.0->pycocotools) (4.41.1)\n",
            "Requirement already satisfied: kiwisolver>=1.0.1 in ./.venv/lib/python3.9/site-packages (from matplotlib>=2.1.0->pycocotools) (1.4.4)\n",
            "Requirement already satisfied: packaging>=20.0 in ./.venv/lib/python3.9/site-packages (from matplotlib>=2.1.0->pycocotools) (23.1)\n",
            "Requirement already satisfied: pillow>=6.2.0 in ./.venv/lib/python3.9/site-packages (from matplotlib>=2.1.0->pycocotools) (10.0.0)\n",
            "Requirement already satisfied: pyparsing<3.1,>=2.3.1 in ./.venv/lib/python3.9/site-packages (from matplotlib>=2.1.0->pycocotools) (3.0.9)\n",
            "Requirement already satisfied: python-dateutil>=2.7 in ./.venv/lib/python3.9/site-packages (from matplotlib>=2.1.0->pycocotools) (2.8.2)\n",
            "Requirement already satisfied: importlib-resources>=3.2.0 in ./.venv/lib/python3.9/site-packages (from matplotlib>=2.1.0->pycocotools) (6.0.0)\n",
            "Requirement already satisfied: zipp>=3.1.0 in ./.venv/lib/python3.9/site-packages (from importlib-resources>=3.2.0->matplotlib>=2.1.0->pycocotools) (3.16.2)\n",
            "Requirement already satisfied: six>=1.5 in ./.venv/lib/python3.9/site-packages (from python-dateutil>=2.7->matplotlib>=2.1.0->pycocotools) (1.16.0)\n",
            "Downloading pycocotools-2.0.7-cp39-cp39-macosx_10_9_universal2.whl (169 kB)\n",
            "\u001b[2K   \u001b[90m━━━━━━━━━━━━━━━━━━━━━━━━━━━━━━━━━━━━━━━━\u001b[0m \u001b[32m169.8/169.8 kB\u001b[0m \u001b[31m1.2 MB/s\u001b[0m eta \u001b[36m0:00:00\u001b[0ma \u001b[36m0:00:01\u001b[0mm\n",
            "\u001b[?25hInstalling collected packages: pycocotools\n",
            "Successfully installed pycocotools-2.0.7\n",
            "Note: you may need to restart the kernel to use updated packages.\n"
          ]
        }
      ],
      "source": [
        "%pip install pycocotools"
      ]
    },
    {
      "cell_type": "code",
      "execution_count": 2,
      "metadata": {
        "collapsed": false
      },
      "outputs": [],
      "source": [
        "import pathlib\n",
        "from collections import defaultdict\n",
        "\n",
        "import PIL.Image\n",
        "\n",
        "import torch\n",
        "import torch.utils.data\n",
        "\n",
        "import torchvision\n",
        "\n",
        "import matplotlib.pyplot as plt\n",
        "\n",
        "from torchvision.transforms.v2 import functional as F\n",
        "from torchvision.utils import draw_bounding_boxes\n",
        "\n",
        "\n",
        "def show(sample):\n",
        "\n",
        "\n",
        "    image, target = sample\n",
        "\n",
        "    ## Converting PIL Image to PyTorch Tensor\n",
        "    if isinstance(image, PIL.Image.Image):\n",
        "        image = F.to_image_tensor(image)\n",
        "\n",
        "    ## Converting DataType\n",
        "    image = F.convert_dtype(image, torch.uint8)\n",
        "    annotated_image = draw_bounding_boxes(image, target[\"boxes\"], colors=\"yellow\", width=3)\n",
        "\n",
        "    fig, ax = plt.subplots()\n",
        "    ax.imshow(annotated_image.permute(1, 2, 0).numpy())\n",
        "    ax.set(xticklabels=[], yticklabels=[], xticks=[], yticks=[])\n",
        "    fig.tight_layout()\n",
        "\n",
        "    fig.show()\n",
        "\n",
        "\n",
        "# We are using BETA APIs, so we deactivate the associated warning, thereby acknowledging that\n",
        "# some APIs may slightly change in the future\n",
        "torchvision.disable_beta_transforms_warning()\n",
        "\n",
        "from torchvision import models, datasets\n",
        "import torchvision.transforms.v2 as transforms"
      ]
    },
    {
      "cell_type": "markdown",
      "metadata": {},
      "source": [
        "We start off by loading the :class:`~torchvision.datasets.CocoDetection` dataset to have a look at what it currently\n",
        "returns, and we'll see how to convert it to a format that is compatible with our new transforms.\n",
        "\n"
      ]
    },
    {
      "cell_type": "code",
      "execution_count": 5,
      "metadata": {
        "collapsed": false
      },
      "outputs": [
        {
          "name": "stdout",
          "output_type": "stream",
          "text": [
            "loading annotations into memory...\n"
          ]
        },
        {
          "ename": "FileNotFoundError",
          "evalue": "[Errno 2] No such file or directory: 'assets/coco/instances.json'",
          "output_type": "error",
          "traceback": [
            "\u001b[0;31m---------------------------------------------------------------------------\u001b[0m",
            "\u001b[0;31mFileNotFoundError\u001b[0m                         Traceback (most recent call last)",
            "Cell \u001b[0;32mIn[5], line 8\u001b[0m\n\u001b[1;32m      4\u001b[0m     root \u001b[39m=\u001b[39m pathlib\u001b[39m.\u001b[39mPath(\u001b[39m\"\u001b[39m\u001b[39massets\u001b[39m\u001b[39m\"\u001b[39m) \u001b[39m/\u001b[39m \u001b[39m\"\u001b[39m\u001b[39mcoco\u001b[39m\u001b[39m\"\u001b[39m\n\u001b[1;32m      5\u001b[0m     \u001b[39mreturn\u001b[39;00m datasets\u001b[39m.\u001b[39mCocoDetection(\u001b[39mstr\u001b[39m(root \u001b[39m/\u001b[39m \u001b[39m\"\u001b[39m\u001b[39mimages\u001b[39m\u001b[39m\"\u001b[39m), \u001b[39mstr\u001b[39m(root \u001b[39m/\u001b[39m \u001b[39m\"\u001b[39m\u001b[39minstances.json\u001b[39m\u001b[39m\"\u001b[39m), \u001b[39m*\u001b[39m\u001b[39m*\u001b[39mkwargs)\n\u001b[0;32m----> 8\u001b[0m dataset \u001b[39m=\u001b[39m load_example_coco_detection_dataset()\n\u001b[1;32m     10\u001b[0m sample \u001b[39m=\u001b[39m dataset[\u001b[39m0\u001b[39m]\n\u001b[1;32m     11\u001b[0m image, target \u001b[39m=\u001b[39m sample\n",
            "Cell \u001b[0;32mIn[5], line 5\u001b[0m, in \u001b[0;36mload_example_coco_detection_dataset\u001b[0;34m(**kwargs)\u001b[0m\n\u001b[1;32m      1\u001b[0m \u001b[39mdef\u001b[39;00m \u001b[39mload_example_coco_detection_dataset\u001b[39m(\u001b[39m*\u001b[39m\u001b[39m*\u001b[39mkwargs):\n\u001b[1;32m      2\u001b[0m     \u001b[39m# This loads fake data for illustration purposes of this example. In practice, you'll have\u001b[39;00m\n\u001b[1;32m      3\u001b[0m     \u001b[39m# to replace this with the proper data\u001b[39;00m\n\u001b[1;32m      4\u001b[0m     root \u001b[39m=\u001b[39m pathlib\u001b[39m.\u001b[39mPath(\u001b[39m\"\u001b[39m\u001b[39massets\u001b[39m\u001b[39m\"\u001b[39m) \u001b[39m/\u001b[39m \u001b[39m\"\u001b[39m\u001b[39mcoco\u001b[39m\u001b[39m\"\u001b[39m\n\u001b[0;32m----> 5\u001b[0m     \u001b[39mreturn\u001b[39;00m datasets\u001b[39m.\u001b[39;49mCocoDetection(\u001b[39mstr\u001b[39;49m(root \u001b[39m/\u001b[39;49m \u001b[39m\"\u001b[39;49m\u001b[39mimages\u001b[39;49m\u001b[39m\"\u001b[39;49m), \u001b[39mstr\u001b[39;49m(root \u001b[39m/\u001b[39;49m \u001b[39m\"\u001b[39;49m\u001b[39minstances.json\u001b[39;49m\u001b[39m\"\u001b[39;49m), \u001b[39m*\u001b[39;49m\u001b[39m*\u001b[39;49mkwargs)\n",
            "File \u001b[0;32m~/Desktop/AI/PyTorch/.venv/lib/python3.9/site-packages/torchvision/datasets/coco.py:36\u001b[0m, in \u001b[0;36mCocoDetection.__init__\u001b[0;34m(self, root, annFile, transform, target_transform, transforms)\u001b[0m\n\u001b[1;32m     33\u001b[0m \u001b[39msuper\u001b[39m()\u001b[39m.\u001b[39m\u001b[39m__init__\u001b[39m(root, transforms, transform, target_transform)\n\u001b[1;32m     34\u001b[0m \u001b[39mfrom\u001b[39;00m \u001b[39mpycocotools\u001b[39;00m\u001b[39m.\u001b[39;00m\u001b[39mcoco\u001b[39;00m \u001b[39mimport\u001b[39;00m COCO\n\u001b[0;32m---> 36\u001b[0m \u001b[39mself\u001b[39m\u001b[39m.\u001b[39mcoco \u001b[39m=\u001b[39m COCO(annFile)\n\u001b[1;32m     37\u001b[0m \u001b[39mself\u001b[39m\u001b[39m.\u001b[39mids \u001b[39m=\u001b[39m \u001b[39mlist\u001b[39m(\u001b[39msorted\u001b[39m(\u001b[39mself\u001b[39m\u001b[39m.\u001b[39mcoco\u001b[39m.\u001b[39mimgs\u001b[39m.\u001b[39mkeys()))\n",
            "File \u001b[0;32m~/Desktop/AI/PyTorch/.venv/lib/python3.9/site-packages/pycocotools/coco.py:81\u001b[0m, in \u001b[0;36mCOCO.__init__\u001b[0;34m(self, annotation_file)\u001b[0m\n\u001b[1;32m     79\u001b[0m \u001b[39mprint\u001b[39m(\u001b[39m'\u001b[39m\u001b[39mloading annotations into memory...\u001b[39m\u001b[39m'\u001b[39m)\n\u001b[1;32m     80\u001b[0m tic \u001b[39m=\u001b[39m time\u001b[39m.\u001b[39mtime()\n\u001b[0;32m---> 81\u001b[0m \u001b[39mwith\u001b[39;00m \u001b[39mopen\u001b[39;49m(annotation_file, \u001b[39m'\u001b[39;49m\u001b[39mr\u001b[39;49m\u001b[39m'\u001b[39;49m) \u001b[39mas\u001b[39;00m f:\n\u001b[1;32m     82\u001b[0m     dataset \u001b[39m=\u001b[39m json\u001b[39m.\u001b[39mload(f)\n\u001b[1;32m     83\u001b[0m \u001b[39massert\u001b[39;00m \u001b[39mtype\u001b[39m(dataset)\u001b[39m==\u001b[39m\u001b[39mdict\u001b[39m, \u001b[39m'\u001b[39m\u001b[39mannotation file format \u001b[39m\u001b[39m{}\u001b[39;00m\u001b[39m not supported\u001b[39m\u001b[39m'\u001b[39m\u001b[39m.\u001b[39mformat(\u001b[39mtype\u001b[39m(dataset))\n",
            "\u001b[0;31mFileNotFoundError\u001b[0m: [Errno 2] No such file or directory: 'assets/coco/instances.json'"
          ]
        }
      ],
      "source": [
        "def load_example_coco_detection_dataset(**kwargs):\n",
        "    # This loads fake data for illustration purposes of this example. In practice, you'll have\n",
        "    # to replace this with the proper data\n",
        "    root = pathlib.Path(\"assets\") / \"coco\"\n",
        "    return datasets.CocoDetection(str(root / \"images\"), str(root / \"instances.json\"), **kwargs)\n",
        "\n",
        "\n",
        "dataset = load_example_coco_detection_dataset()\n",
        "\n",
        "sample = dataset[0]\n",
        "image, target = sample\n",
        "print(type(image))\n",
        "print(type(target), type(target[0]), list(target[0].keys()))"
      ]
    },
    {
      "cell_type": "markdown",
      "metadata": {},
      "source": [
        "The dataset returns a two-tuple with the first item being a :class:`PIL.Image.Image` and second one a list of\n",
        "dictionaries, which each containing the annotations for a single object instance. As is, this format is not compatible\n",
        "with the ``torchvision.transforms.v2``, nor with the models. To overcome that, we provide the\n",
        ":func:`~torchvision.datasets.wrap_dataset_for_transforms_v2` function. For\n",
        ":class:`~torchvision.datasets.CocoDetection`, this changes the target structure to a single dictionary of lists. It\n",
        "also adds the key-value-pairs ``\"boxes\"``, ``\"masks\"``, and ``\"labels\"`` wrapped in the corresponding\n",
        "``torchvision.datapoints``.\n",
        "\n"
      ]
    },
    {
      "cell_type": "code",
      "execution_count": null,
      "metadata": {
        "collapsed": false
      },
      "outputs": [],
      "source": [
        "dataset = datasets.wrap_dataset_for_transforms_v2(dataset)\n",
        "\n",
        "sample = dataset[0]\n",
        "image, target = sample\n",
        "print(type(image))\n",
        "print(type(target), list(target.keys()))\n",
        "print(type(target[\"boxes\"]), type(target[\"masks\"]), type(target[\"labels\"]))"
      ]
    },
    {
      "cell_type": "markdown",
      "metadata": {},
      "source": [
        "As baseline, let's have a look at a sample without transformations:\n",
        "\n"
      ]
    },
    {
      "cell_type": "code",
      "execution_count": null,
      "metadata": {
        "collapsed": false
      },
      "outputs": [],
      "source": [
        "show(sample)"
      ]
    },
    {
      "cell_type": "markdown",
      "metadata": {},
      "source": [
        "With the dataset properly set up, we can now define the augmentation pipeline. This is done the same way it is done in\n",
        "``torchvision.transforms`` v1, but now handles bounding boxes and masks without any extra configuration.\n",
        "\n"
      ]
    },
    {
      "cell_type": "code",
      "execution_count": null,
      "metadata": {
        "collapsed": false
      },
      "outputs": [],
      "source": [
        "transform = transforms.Compose(\n",
        "    [\n",
        "        transforms.RandomPhotometricDistort(),\n",
        "        transforms.RandomZoomOut(\n",
        "            fill=defaultdict(lambda: 0, {PIL.Image.Image: (123, 117, 104)})\n",
        "        ),\n",
        "        transforms.RandomIoUCrop(),\n",
        "        transforms.RandomHorizontalFlip(),\n",
        "        transforms.ToImageTensor(),\n",
        "        transforms.ConvertImageDtype(torch.float32),\n",
        "        transforms.SanitizeBoundingBox(),\n",
        "    ]\n",
        ")"
      ]
    },
    {
      "cell_type": "markdown",
      "metadata": {},
      "source": [
        "<div class=\"alert alert-info\"><h4>Note</h4><p>Although the :class:`~torchvision.transforms.v2.SanitizeBoundingBox` transform is a no-op in this example, but it\n",
        "   should be placed at least once at the end of a detection pipeline to remove degenerate bounding boxes as well as\n",
        "   the corresponding labels and optionally masks. It is particularly critical to add it if\n",
        "   :class:`~torchvision.transforms.v2.RandomIoUCrop` was used.</p></div>\n",
        "\n",
        "Let's look how the sample looks like with our augmentation pipeline in place:\n",
        "\n"
      ]
    },
    {
      "cell_type": "code",
      "execution_count": null,
      "metadata": {
        "collapsed": false
      },
      "outputs": [],
      "source": [
        "dataset = load_example_coco_detection_dataset(transforms=transform)\n",
        "dataset = datasets.wrap_dataset_for_transforms_v2(dataset)\n",
        "\n",
        "torch.manual_seed(3141)\n",
        "sample = dataset[0]\n",
        "\n",
        "show(sample)"
      ]
    },
    {
      "cell_type": "markdown",
      "metadata": {},
      "source": [
        "We can see that the color of the image was distorted, we zoomed out on it (off center) and flipped it horizontally.\n",
        "In all of this, the bounding box was transformed accordingly. And without any further ado, we can start training.\n",
        "\n"
      ]
    },
    {
      "cell_type": "code",
      "execution_count": null,
      "metadata": {
        "collapsed": false
      },
      "outputs": [],
      "source": [
        "data_loader = torch.utils.data.DataLoader(\n",
        "    dataset,\n",
        "    batch_size=2,\n",
        "    # We need a custom collation function here, since the object detection models expect a\n",
        "    # sequence of images and target dictionaries. The default collation function tries to\n",
        "    # `torch.stack` the individual elements, which fails in general for object detection,\n",
        "    # because the number of object instances varies between the samples. This is the same for\n",
        "    # `torchvision.transforms` v1\n",
        "    collate_fn=lambda batch: tuple(zip(*batch)),\n",
        ")\n",
        "\n",
        "model = models.get_model(\"ssd300_vgg16\", weights=None, weights_backbone=None).train()\n",
        "\n",
        "for images, targets in data_loader:\n",
        "    loss_dict = model(images, targets)\n",
        "    print(loss_dict)\n",
        "    # Put your training logic here\n",
        "    break"
      ]
    }
  ],
  "metadata": {
    "kernelspec": {
      "display_name": "Python 3",
      "language": "python",
      "name": "python3"
    },
    "language_info": {
      "codemirror_mode": {
        "name": "ipython",
        "version": 3
      },
      "file_extension": ".py",
      "mimetype": "text/x-python",
      "name": "python",
      "nbconvert_exporter": "python",
      "pygments_lexer": "ipython3",
      "version": "3.9.6"
    }
  },
  "nbformat": 4,
  "nbformat_minor": 0
}
